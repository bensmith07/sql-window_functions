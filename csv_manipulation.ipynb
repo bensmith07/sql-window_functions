{
 "cells": [
  {
   "cell_type": "code",
   "execution_count": 1,
   "id": "570148a9",
   "metadata": {},
   "outputs": [],
   "source": [
    "import pandas as pd"
   ]
  },
  {
   "cell_type": "code",
   "execution_count": 49,
   "id": "2aa2abe6",
   "metadata": {},
   "outputs": [],
   "source": [
    "def fix_column_names(df):\n",
    "    for col in df.columns:\n",
    "        df = df.rename(columns={col: col.lower().replace(' ', '_')})\n",
    "    return df"
   ]
  },
  {
   "cell_type": "code",
   "execution_count": 53,
   "id": "02de42d9",
   "metadata": {},
   "outputs": [],
   "source": [
    "def prep_sales():\n",
    "    \n",
    "    filename = 'sales.csv'\n",
    "    date_columns = ['order_date', 'ship_date']\n",
    "\n",
    "    df = pd.read_csv(filename)\n",
    "    df = fix_column_names(df)\n",
    "    for col in date_columns:\n",
    "        df[col] = pd.to_datetime(df[col])\n",
    "        df[col] = df[col].dt.strftime('%Y-%m-%d')\n",
    "    df.to_csv(filename, index=False)"
   ]
  },
  {
   "cell_type": "code",
   "execution_count": 54,
   "id": "575c48e0",
   "metadata": {},
   "outputs": [],
   "source": [
    "def prep_customers():\n",
    "    \n",
    "    filename = 'customers.csv'\n",
    "\n",
    "    df = pd.read_csv(filename)\n",
    "    df = fix_column_names(df)\n",
    "    df.to_csv(filename, index=False)"
   ]
  },
  {
   "cell_type": "code",
   "execution_count": 55,
   "id": "83eeec57",
   "metadata": {},
   "outputs": [],
   "source": [
    "prep_sales()\n",
    "prep_customers()"
   ]
  },
  {
   "cell_type": "code",
   "execution_count": null,
   "id": "55ffcdf3",
   "metadata": {},
   "outputs": [],
   "source": []
  }
 ],
 "metadata": {
  "kernelspec": {
   "display_name": "Python 3 (ipykernel)",
   "language": "python",
   "name": "python3"
  },
  "language_info": {
   "codemirror_mode": {
    "name": "ipython",
    "version": 3
   },
   "file_extension": ".py",
   "mimetype": "text/x-python",
   "name": "python",
   "nbconvert_exporter": "python",
   "pygments_lexer": "ipython3",
   "version": "3.9.7"
  }
 },
 "nbformat": 4,
 "nbformat_minor": 5
}
